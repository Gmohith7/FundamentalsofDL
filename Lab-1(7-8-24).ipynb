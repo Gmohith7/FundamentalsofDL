{
 "cells": [
  {
   "cell_type": "code",
   "execution_count": 1,
   "id": "247d7dac-a474-4c2e-b209-359dde61440f",
   "metadata": {},
   "outputs": [],
   "source": [
    "import math\n",
    "    "
   ]
  },
  {
   "cell_type": "code",
   "execution_count": 2,
   "id": "b974b726-efd1-43f2-9e89-cdb78d10c531",
   "metadata": {},
   "outputs": [],
   "source": [
    "def basic_sigmoid(x):\n",
    "    s = 1/(1+math.exp(-x))\n",
    "    return s"
   ]
  },
  {
   "cell_type": "code",
   "execution_count": 3,
   "id": "338a2bd2-eec0-41ea-a5ff-d2611d98e9fe",
   "metadata": {},
   "outputs": [
    {
     "data": {
      "text/plain": [
       "0.2689414213699951"
      ]
     },
     "execution_count": 3,
     "metadata": {},
     "output_type": "execute_result"
    }
   ],
   "source": [
    "basic_sigmoid(-1)"
   ]
  },
  {
   "cell_type": "code",
   "execution_count": 4,
   "id": "0e73197a-3693-4169-aa26-c9cc8000fdbb",
   "metadata": {},
   "outputs": [
    {
     "name": "stdout",
     "output_type": "stream",
     "text": [
      "[ 2.71828183  7.3890561  20.08553692]\n"
     ]
    }
   ],
   "source": [
    "import numpy as np\n",
    "\n",
    "# result of np.exp\n",
    "x = np.array([1,2,3])\n",
    "print(np.exp(x))"
   ]
  },
  {
   "cell_type": "code",
   "execution_count": 5,
   "id": "788b5b0f-4ab1-4ea3-8c3e-e387675df3f7",
   "metadata": {},
   "outputs": [
    {
     "name": "stdout",
     "output_type": "stream",
     "text": [
      "[4 5 6]\n"
     ]
    }
   ],
   "source": [
    "# ex of vector operation \n",
    "x = np.array([1,2,3])\n",
    "print(x+3)"
   ]
  },
  {
   "cell_type": "code",
   "execution_count": 6,
   "id": "b678bbb9-9faf-4a0c-a049-faa5d761b12f",
   "metadata": {},
   "outputs": [],
   "source": [
    "def sigmoid(x):\n",
    "\n",
    "    s = 1/(1+np.exp(-x))\n",
    "    return s"
   ]
  },
  {
   "cell_type": "code",
   "execution_count": 7,
   "id": "4011ffa3-92b1-4c63-b0a7-b24538347fc3",
   "metadata": {},
   "outputs": [
    {
     "data": {
      "text/plain": [
       "array([0.73105858, 0.88079708, 0.95257413])"
      ]
     },
     "execution_count": 7,
     "metadata": {},
     "output_type": "execute_result"
    }
   ],
   "source": [
    "x = sigmoid(np.array([1,2,3]))\n",
    "x"
   ]
  },
  {
   "cell_type": "code",
   "execution_count": 8,
   "id": "cae7964c-ba11-42ae-bcdd-efd04498bfa5",
   "metadata": {},
   "outputs": [],
   "source": [
    "def d_sigmoid(x):\n",
    "\n",
    "    s = 1/(1+np.exp(-x))\n",
    "    d = s * (1 - s) \n",
    "    return d"
   ]
  },
  {
   "cell_type": "code",
   "execution_count": 9,
   "id": "aa65929c-2c01-48e7-8acc-26013cd21cd8",
   "metadata": {},
   "outputs": [
    {
     "data": {
      "text/plain": [
       "array([0.19661193, 0.10499359, 0.04517666])"
      ]
     },
     "execution_count": 9,
     "metadata": {},
     "output_type": "execute_result"
    }
   ],
   "source": [
    "x = d_sigmoid(np.array([1,2,3]))\n",
    "x"
   ]
  },
  {
   "cell_type": "code",
   "execution_count": 10,
   "id": "057aeed6-9b50-44fb-adec-a60d48cee617",
   "metadata": {},
   "outputs": [
    {
     "data": {
      "text/plain": [
       "array([[[0.26769038, 0.55162328],\n",
       "        [0.70341737, 0.98727198],\n",
       "        [0.31114157, 0.91220441]],\n",
       "\n",
       "       [[0.2863873 , 0.78027053],\n",
       "        [0.05768992, 0.75989942],\n",
       "        [0.65361434, 0.90415828]],\n",
       "\n",
       "       [[0.3970924 , 0.18478497],\n",
       "        [0.17290836, 0.52553674],\n",
       "        [0.36484641, 0.8146151 ]]])"
      ]
     },
     "execution_count": 10,
     "metadata": {},
     "output_type": "execute_result"
    }
   ],
   "source": [
    "image = np.random.rand(3,3,2)\n",
    "image"
   ]
  },
  {
   "cell_type": "code",
   "execution_count": 11,
   "id": "aaa1f01c-88cb-4b02-90f4-cd1ba1ab6012",
   "metadata": {},
   "outputs": [],
   "source": [
    "def dem_reshape(img):\n",
    "    img = img.reshape(img.shape[0]*img.shape[1],img.shape[2])\n",
    "    return img"
   ]
  },
  {
   "cell_type": "code",
   "execution_count": 12,
   "id": "4805cec7-6af9-40c9-b132-79eeaf1ffbe5",
   "metadata": {},
   "outputs": [
    {
     "data": {
      "text/plain": [
       "array([[0.26769038, 0.55162328],\n",
       "       [0.70341737, 0.98727198],\n",
       "       [0.31114157, 0.91220441],\n",
       "       [0.2863873 , 0.78027053],\n",
       "       [0.05768992, 0.75989942],\n",
       "       [0.65361434, 0.90415828],\n",
       "       [0.3970924 , 0.18478497],\n",
       "       [0.17290836, 0.52553674],\n",
       "       [0.36484641, 0.8146151 ]])"
      ]
     },
     "execution_count": 12,
     "metadata": {},
     "output_type": "execute_result"
    }
   ],
   "source": [
    "image = dem_reshape(image)\n",
    "image"
   ]
  },
  {
   "cell_type": "code",
   "execution_count": 13,
   "id": "f2f0de38-2ec7-4324-a267-5477c85f8a2a",
   "metadata": {},
   "outputs": [
    {
     "data": {
      "text/plain": [
       "array([[0.43658601, 0.89966252],\n",
       "       [0.58026717, 0.81442618],\n",
       "       [0.32282525, 0.94645859],\n",
       "       [0.34456018, 0.93876423],\n",
       "       [0.0757    , 0.99713064],\n",
       "       [0.5858505 , 0.81041915],\n",
       "       [0.90664179, 0.42190125],\n",
       "       [0.31253175, 0.94990731],\n",
       "       [0.40875187, 0.91264555]])"
      ]
     },
     "execution_count": 13,
     "metadata": {},
     "output_type": "execute_result"
    }
   ],
   "source": [
    "def normalizerows(img):\n",
    "    x_norm = np.linalg.norm(img,axis = 1, keepdims = True)\n",
    "    img = img/x_norm\n",
    "    return img\n",
    "\n",
    "image = normalizerows(image)\n",
    "image"
   ]
  },
  {
   "cell_type": "code",
   "execution_count": 14,
   "id": "53089af3-7624-428b-bb34-2f1f2719916f",
   "metadata": {},
   "outputs": [
    {
     "data": {
      "text/plain": [
       "array([[0.        , 0.999992  , 0.00399997],\n",
       "       [0.26726124, 0.80178373, 0.53452248]])"
      ]
     },
     "execution_count": 14,
     "metadata": {},
     "output_type": "execute_result"
    }
   ],
   "source": [
    "img1 = np.array([\n",
    "    [0,1000,4],\n",
    "    [2,6,4]])\n",
    "img1 = normalizerows(img1)\n",
    "img1"
   ]
  },
  {
   "cell_type": "code",
   "execution_count": 19,
   "id": "98e2627b-88cb-4cb2-8df3-cf11df48187b",
   "metadata": {},
   "outputs": [
    {
     "data": {
      "text/plain": [
       "array([[9.80897665e-01, 8.94462891e-04, 1.79657674e-02, 1.21052389e-04,\n",
       "        1.21052389e-04],\n",
       "       [8.78679856e-01, 1.18916387e-01, 8.01252314e-04, 8.01252314e-04,\n",
       "        8.01252314e-04]])"
      ]
     },
     "execution_count": 19,
     "metadata": {},
     "output_type": "execute_result"
    }
   ],
   "source": [
    "def softmax(x):\n",
    "    x_exp = np.exp(x)\n",
    "\n",
    "    x_sum = np.sum(x_exp, axis = 1 , keepdims = True)\n",
    "\n",
    "    x = x_exp/x_sum\n",
    "\n",
    "    return x\n",
    "\n",
    "img2 = np.array([[9,2,5,0,0],\n",
    "                 [7,5,0,0,0]])\n",
    "\n",
    "img2  = softmax(img2)\n",
    "img2"
   ]
  },
  {
   "cell_type": "code",
   "execution_count": 25,
   "id": "06ee8193-4634-4f7e-93bb-174feb2bffbf",
   "metadata": {},
   "outputs": [
    {
     "name": "stdout",
     "output_type": "stream",
     "text": [
      "dot  = 2499843.4046221836\n",
      "------Computationtime--------3296.875ms\n"
     ]
    }
   ],
   "source": [
    "import time\n",
    "\n",
    "x1 = np.random.rand(10000000)\n",
    "x2 = np.random.rand(10000000)\n",
    "\n",
    "tic = (time.process_time())\n",
    "dot = 0\n",
    "for i in range(len(x1)):\n",
    "    dot += x1[i]*x2[i]\n",
    "toc = time.process_time()\n",
    "print(\"dot  = \" +str(dot)+\"\\n------Computationtime--------\" + str(1000*(toc-tic))+\"ms\")"
   ]
  },
  {
   "cell_type": "code",
   "execution_count": 26,
   "id": "6947f357-0207-4a4e-b1ba-82c2299d9ddc",
   "metadata": {},
   "outputs": [
    {
     "name": "stdout",
     "output_type": "stream",
     "text": [
      "dot  = 2499843.404622003\n",
      "------Computationtime--------31.25ms\n"
     ]
    }
   ],
   "source": [
    "tic = time.process_time()\n",
    "dot = np.dot(x1,x2)\n",
    "toc = time.process_time()\n",
    "print(\"dot  = \" +str(dot)+\"\\n------Computationtime--------\" + str(1000*(toc-tic))+\"ms\")"
   ]
  },
  {
   "cell_type": "code",
   "execution_count": null,
   "id": "5f00838b-83c4-4813-9bd3-b5f9925191ff",
   "metadata": {},
   "outputs": [],
   "source": []
  }
 ],
 "metadata": {
  "kernelspec": {
   "display_name": "Python 3 (ipykernel)",
   "language": "python",
   "name": "python3"
  },
  "language_info": {
   "codemirror_mode": {
    "name": "ipython",
    "version": 3
   },
   "file_extension": ".py",
   "mimetype": "text/x-python",
   "name": "python",
   "nbconvert_exporter": "python",
   "pygments_lexer": "ipython3",
   "version": "3.11.7"
  }
 },
 "nbformat": 4,
 "nbformat_minor": 5
}
